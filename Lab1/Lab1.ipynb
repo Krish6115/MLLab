{
 "cells": [
  {
   "cell_type": "code",
   "execution_count": 1,
   "id": "5cddafcf-f585-4f74-b0dd-0da10e031ad4",
   "metadata": {},
   "outputs": [
    {
     "name": "stdout",
     "output_type": "stream",
     "text": [
      "Pairs which give 10 on adding: 2\n",
      "Range of list: 8\n",
      "Matrix squared: [[7, 10], [15, 22]]\n",
      "Most frequent character: 'p' (appears 3 times)\n"
     ]
    }
   ],
   "source": [
    "from collections import Counter\n",
    "\n",
    "# 1) Count pairs with a given sum\n",
    "def count_pairs_with_sum(lst, target_sum):\n",
    "    count = 0\n",
    "    seen = set()\n",
    "    for num in lst:\n",
    "        complement = target_sum - num\n",
    "        if complement in seen:\n",
    "            count += 1\n",
    "        seen.add(num)\n",
    "    return count\n",
    "\n",
    "# 2) Calculate the range of the list\n",
    "def calculate_range(lst):\n",
    "    if len(lst) < 3:\n",
    "        return \"Range determination not possible\"\n",
    "    return max(lst) - min(lst)\n",
    "\n",
    "# 3) Matrix exponentiation\n",
    "def matrix_power(matrix, m):\n",
    "    def multiply_matrices(a, b):\n",
    "        return [[sum(a[i][k] * b[k][j] for k in range(len(b)))\n",
    "                for j in range(len(b[0]))] for i in range(len(a))]\n",
    "   \n",
    "    result = matrix\n",
    "    for _ in range(m-1):\n",
    "        result = multiply_matrices(result, matrix)\n",
    "    return result\n",
    "\n",
    "# 4) Find the highest occurring character\n",
    "def highest_occurring_char(text):\n",
    "    letters = [c.lower() for c in text if c.isalpha()]\n",
    "    if not letters:\n",
    "        return None, 0\n",
    "    count = Counter(letters)\n",
    "    most_common = max(count, key=count.get)\n",
    "    return most_common, count[most_common]\n",
    "\n",
    "# Test the functions\n",
    "nums = [2, 7, 4, 1, 3, 6]\n",
    "print(f\"Pairs which give 10 on adding: {count_pairs_with_sum(nums, 10)}\")\n",
    "\n",
    "nums_range = [5, 3, 8, 1, 0, 4]\n",
    "print(f\"Range of list: {calculate_range(nums_range)}\")\n",
    "\n",
    "matrix = [[1, 2], [3, 4]]\n",
    "print(f\"Matrix squared: {matrix_power(matrix, 2)}\")\n",
    "\n",
    "test_str = \"hippopotamus\"\n",
    "char, count = highest_occurring_char(test_str)\n",
    "print(f\"Most frequent character: '{char}' (appears {count} times)\")\n"
   ]
  }
 ],
 "metadata": {
  "kernelspec": {
   "display_name": "Python [conda env:base] *",
   "language": "python",
   "name": "conda-base-py"
  },
  "language_info": {
   "codemirror_mode": {
    "name": "ipython",
    "version": 3
   },
   "file_extension": ".py",
   "mimetype": "text/x-python",
   "name": "python",
   "nbconvert_exporter": "python",
   "pygments_lexer": "ipython3",
   "version": "3.13.5"
  }
 },
 "nbformat": 4,
 "nbformat_minor": 5
}
